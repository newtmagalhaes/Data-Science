{
  "nbformat": 4,
  "nbformat_minor": 0,
  "metadata": {
    "colab": {
      "name": "apagar-bubble_sort.ipynb",
      "provenance": [],
      "collapsed_sections": [],
      "authorship_tag": "ABX9TyPA5HU0NhNE2SQ6YS2rdmJM"
    },
    "kernelspec": {
      "name": "python3",
      "display_name": "Python 3"
    },
    "language_info": {
      "name": "python"
    }
  },
  "cells": [
    {
      "cell_type": "markdown",
      "metadata": {
        "id": "G2Xj948dq0Da"
      },
      "source": [
        "# Bubble Sort\n",
        "\n",
        "## Importando bibliotecas"
      ]
    },
    {
      "cell_type": "code",
      "metadata": {
        "id": "7YbB6r38oYeY"
      },
      "source": [
        "import numpy as np\n",
        "import pandas as pd\n",
        "import seaborn as sns\n",
        "from time import perf_counter\n",
        "from matplotlib import pyplot as plt\n",
        "\n",
        "LISTA_DE_TAMANHOS = [1000, 2000, 3000,\n",
        "                     4000, 5000, 8000,\n",
        "                     11_000, 15_000]\n",
        "\n"
      ],
      "execution_count": 1,
      "outputs": []
    },
    {
      "cell_type": "markdown",
      "metadata": {
        "id": "c9uIAeLlGO1N"
      },
      "source": [
        "## Algoritmo de ordenação"
      ]
    },
    {
      "cell_type": "code",
      "metadata": {
        "id": "pKvDp1nxVPs4"
      },
      "source": [
        "def bubble_sort(\n",
        "    arr:np.ndarray,\n",
        "    compare : callable = lambda x, y: x > y):\n",
        "  i = 0\n",
        "  n = len(arr)\n",
        "  houve_troca = True\n",
        "  while i < n-1 and houve_troca:\n",
        "    i += 1\n",
        "    houve_troca = False\n",
        "    for j in range(n-1):\n",
        "      if compare(arr[j], arr[j+1]):\n",
        "        arr[j], arr[j+1] = arr[j+1], arr[j]\n",
        "        houve_troca = True"
      ],
      "execution_count": 2,
      "outputs": []
    },
    {
      "cell_type": "markdown",
      "metadata": {
        "id": "QUXSU2vTXEQB"
      },
      "source": [
        "## Desempenho em Caso Aleatório"
      ]
    },
    {
      "cell_type": "code",
      "metadata": {
        "id": "lfjsNM6Jbtt-"
      },
      "source": [
        "tempo_de_ordenamento_1 = []\n",
        "\n",
        "for tamanho in LISTA_DE_TAMANHOS:\n",
        "  # 'tamanho' números aleatórios dentro do intervalo [0, 1)\n",
        "  amostra = np.random.sample(tamanho)\n",
        "  start = perf_counter()\n",
        "  bubble_sort(amostra)\n",
        "  stop = perf_counter()\n",
        "  tempo_de_ordenamento_1.append(stop - start)\n",
        "\n"
      ],
      "execution_count": 3,
      "outputs": []
    },
    {
      "cell_type": "markdown",
      "metadata": {
        "id": "nY5lXgHxbl7k"
      },
      "source": [
        "## Desempenho em Pior Caso\n",
        "\n",
        "* O pior caso é quando a lista se encontra ordenada de maneira decrescente"
      ]
    },
    {
      "cell_type": "code",
      "metadata": {
        "id": "eRQYnuTieHGx"
      },
      "source": [
        "tempo_de_ordenamento_2 = []\n",
        "\n",
        "for tamanho in LISTA_DE_TAMANHOS:\n",
        "  # 'tamanho' números igualmente espaçados de 1 a 0 (nessa ordem)\n",
        "  amostra = np.linspace(1, 0, tamanho)\n",
        "  start = perf_counter()\n",
        "  bubble_sort(amostra)\n",
        "  stop = perf_counter()\n",
        "  tempo_de_ordenamento_2.append(stop - start)"
      ],
      "execution_count": 4,
      "outputs": []
    },
    {
      "cell_type": "markdown",
      "metadata": {
        "id": "Dv6ZIruMfka8"
      },
      "source": [
        "## Gráfico de desempenho"
      ]
    },
    {
      "cell_type": "code",
      "metadata": {
        "colab": {
          "base_uri": "https://localhost:8080/",
          "height": 829
        },
        "id": "MFjRgqyNfm6R",
        "outputId": "3a5a5b7c-e27b-4c9c-c4af-a754c8c3801d"
      },
      "source": [
        "def _mini_dataframe(lista:np.ndarray, case:str) -> pd.DataFrame:\n",
        "  df = pd.DataFrame(\n",
        "      data=[LISTA_DE_TAMANHOS, lista],\n",
        "      index=['tamanho', 'tempo (s)']\n",
        "      ).transpose()\n",
        "  \n",
        "  df['caso'] = case\n",
        "  return df\n",
        "\n",
        "LISTA_DE_CASOS = ['caso aleatório', 'pior caso']\n",
        "LISTA_DE_TEMPOS = [tempo_de_ordenamento_1, tempo_de_ordenamento_2]\n",
        "\n",
        "df = pd.concat(\n",
        "    [_mini_dataframe(l, c) for l, c in zip(LISTA_DE_TEMPOS, LISTA_DE_CASOS)],\n",
        "    ignore_index=True)\n",
        "\n",
        "sns.set_style('darkgrid')\n",
        "\n",
        "sns.pointplot(\n",
        "    data=df,\n",
        "    x='tamanho',\n",
        "    y='tempo (s)',\n",
        "    hue='caso',\n",
        "    ).set(\n",
        "        title='TAMANHO DA LISTA X TEMPO DE ORDENAMENTO')\n",
        "\n",
        "df"
      ],
      "execution_count": 5,
      "outputs": [
        {
          "output_type": "execute_result",
          "data": {
            "text/plain": [
              "    tamanho   tempo (s)            caso\n",
              "0    1000.0    0.412404  caso aleatório\n",
              "1    2000.0    1.576234  caso aleatório\n",
              "2    3000.0    3.603564  caso aleatório\n",
              "3    4000.0    6.803605  caso aleatório\n",
              "4    5000.0   16.263960  caso aleatório\n",
              "5    8000.0   26.222649  caso aleatório\n",
              "6   11000.0   50.468923  caso aleatório\n",
              "7   15000.0   92.600836  caso aleatório\n",
              "8    1000.0    0.515454       pior caso\n",
              "9    2000.0    2.083170       pior caso\n",
              "10   3000.0    4.678053       pior caso\n",
              "11   4000.0    8.388340       pior caso\n",
              "12   5000.0   13.111614       pior caso\n",
              "13   8000.0   33.530123       pior caso\n",
              "14  11000.0   63.291281       pior caso\n",
              "15  15000.0  117.364497       pior caso"
            ],
            "text/html": [
              "\n",
              "  <div id=\"df-3988625d-522e-43e4-b9ba-c0d4ea9a076e\">\n",
              "    <div class=\"colab-df-container\">\n",
              "      <div>\n",
              "<style scoped>\n",
              "    .dataframe tbody tr th:only-of-type {\n",
              "        vertical-align: middle;\n",
              "    }\n",
              "\n",
              "    .dataframe tbody tr th {\n",
              "        vertical-align: top;\n",
              "    }\n",
              "\n",
              "    .dataframe thead th {\n",
              "        text-align: right;\n",
              "    }\n",
              "</style>\n",
              "<table border=\"1\" class=\"dataframe\">\n",
              "  <thead>\n",
              "    <tr style=\"text-align: right;\">\n",
              "      <th></th>\n",
              "      <th>tamanho</th>\n",
              "      <th>tempo (s)</th>\n",
              "      <th>caso</th>\n",
              "    </tr>\n",
              "  </thead>\n",
              "  <tbody>\n",
              "    <tr>\n",
              "      <th>0</th>\n",
              "      <td>1000.0</td>\n",
              "      <td>0.412404</td>\n",
              "      <td>caso aleatório</td>\n",
              "    </tr>\n",
              "    <tr>\n",
              "      <th>1</th>\n",
              "      <td>2000.0</td>\n",
              "      <td>1.576234</td>\n",
              "      <td>caso aleatório</td>\n",
              "    </tr>\n",
              "    <tr>\n",
              "      <th>2</th>\n",
              "      <td>3000.0</td>\n",
              "      <td>3.603564</td>\n",
              "      <td>caso aleatório</td>\n",
              "    </tr>\n",
              "    <tr>\n",
              "      <th>3</th>\n",
              "      <td>4000.0</td>\n",
              "      <td>6.803605</td>\n",
              "      <td>caso aleatório</td>\n",
              "    </tr>\n",
              "    <tr>\n",
              "      <th>4</th>\n",
              "      <td>5000.0</td>\n",
              "      <td>16.263960</td>\n",
              "      <td>caso aleatório</td>\n",
              "    </tr>\n",
              "    <tr>\n",
              "      <th>5</th>\n",
              "      <td>8000.0</td>\n",
              "      <td>26.222649</td>\n",
              "      <td>caso aleatório</td>\n",
              "    </tr>\n",
              "    <tr>\n",
              "      <th>6</th>\n",
              "      <td>11000.0</td>\n",
              "      <td>50.468923</td>\n",
              "      <td>caso aleatório</td>\n",
              "    </tr>\n",
              "    <tr>\n",
              "      <th>7</th>\n",
              "      <td>15000.0</td>\n",
              "      <td>92.600836</td>\n",
              "      <td>caso aleatório</td>\n",
              "    </tr>\n",
              "    <tr>\n",
              "      <th>8</th>\n",
              "      <td>1000.0</td>\n",
              "      <td>0.515454</td>\n",
              "      <td>pior caso</td>\n",
              "    </tr>\n",
              "    <tr>\n",
              "      <th>9</th>\n",
              "      <td>2000.0</td>\n",
              "      <td>2.083170</td>\n",
              "      <td>pior caso</td>\n",
              "    </tr>\n",
              "    <tr>\n",
              "      <th>10</th>\n",
              "      <td>3000.0</td>\n",
              "      <td>4.678053</td>\n",
              "      <td>pior caso</td>\n",
              "    </tr>\n",
              "    <tr>\n",
              "      <th>11</th>\n",
              "      <td>4000.0</td>\n",
              "      <td>8.388340</td>\n",
              "      <td>pior caso</td>\n",
              "    </tr>\n",
              "    <tr>\n",
              "      <th>12</th>\n",
              "      <td>5000.0</td>\n",
              "      <td>13.111614</td>\n",
              "      <td>pior caso</td>\n",
              "    </tr>\n",
              "    <tr>\n",
              "      <th>13</th>\n",
              "      <td>8000.0</td>\n",
              "      <td>33.530123</td>\n",
              "      <td>pior caso</td>\n",
              "    </tr>\n",
              "    <tr>\n",
              "      <th>14</th>\n",
              "      <td>11000.0</td>\n",
              "      <td>63.291281</td>\n",
              "      <td>pior caso</td>\n",
              "    </tr>\n",
              "    <tr>\n",
              "      <th>15</th>\n",
              "      <td>15000.0</td>\n",
              "      <td>117.364497</td>\n",
              "      <td>pior caso</td>\n",
              "    </tr>\n",
              "  </tbody>\n",
              "</table>\n",
              "</div>\n",
              "      <button class=\"colab-df-convert\" onclick=\"convertToInteractive('df-3988625d-522e-43e4-b9ba-c0d4ea9a076e')\"\n",
              "              title=\"Convert this dataframe to an interactive table.\"\n",
              "              style=\"display:none;\">\n",
              "        \n",
              "  <svg xmlns=\"http://www.w3.org/2000/svg\" height=\"24px\"viewBox=\"0 0 24 24\"\n",
              "       width=\"24px\">\n",
              "    <path d=\"M0 0h24v24H0V0z\" fill=\"none\"/>\n",
              "    <path d=\"M18.56 5.44l.94 2.06.94-2.06 2.06-.94-2.06-.94-.94-2.06-.94 2.06-2.06.94zm-11 1L8.5 8.5l.94-2.06 2.06-.94-2.06-.94L8.5 2.5l-.94 2.06-2.06.94zm10 10l.94 2.06.94-2.06 2.06-.94-2.06-.94-.94-2.06-.94 2.06-2.06.94z\"/><path d=\"M17.41 7.96l-1.37-1.37c-.4-.4-.92-.59-1.43-.59-.52 0-1.04.2-1.43.59L10.3 9.45l-7.72 7.72c-.78.78-.78 2.05 0 2.83L4 21.41c.39.39.9.59 1.41.59.51 0 1.02-.2 1.41-.59l7.78-7.78 2.81-2.81c.8-.78.8-2.07 0-2.86zM5.41 20L4 18.59l7.72-7.72 1.47 1.35L5.41 20z\"/>\n",
              "  </svg>\n",
              "      </button>\n",
              "      \n",
              "  <style>\n",
              "    .colab-df-container {\n",
              "      display:flex;\n",
              "      flex-wrap:wrap;\n",
              "      gap: 12px;\n",
              "    }\n",
              "\n",
              "    .colab-df-convert {\n",
              "      background-color: #E8F0FE;\n",
              "      border: none;\n",
              "      border-radius: 50%;\n",
              "      cursor: pointer;\n",
              "      display: none;\n",
              "      fill: #1967D2;\n",
              "      height: 32px;\n",
              "      padding: 0 0 0 0;\n",
              "      width: 32px;\n",
              "    }\n",
              "\n",
              "    .colab-df-convert:hover {\n",
              "      background-color: #E2EBFA;\n",
              "      box-shadow: 0px 1px 2px rgba(60, 64, 67, 0.3), 0px 1px 3px 1px rgba(60, 64, 67, 0.15);\n",
              "      fill: #174EA6;\n",
              "    }\n",
              "\n",
              "    [theme=dark] .colab-df-convert {\n",
              "      background-color: #3B4455;\n",
              "      fill: #D2E3FC;\n",
              "    }\n",
              "\n",
              "    [theme=dark] .colab-df-convert:hover {\n",
              "      background-color: #434B5C;\n",
              "      box-shadow: 0px 1px 3px 1px rgba(0, 0, 0, 0.15);\n",
              "      filter: drop-shadow(0px 1px 2px rgba(0, 0, 0, 0.3));\n",
              "      fill: #FFFFFF;\n",
              "    }\n",
              "  </style>\n",
              "\n",
              "      <script>\n",
              "        const buttonEl =\n",
              "          document.querySelector('#df-3988625d-522e-43e4-b9ba-c0d4ea9a076e button.colab-df-convert');\n",
              "        buttonEl.style.display =\n",
              "          google.colab.kernel.accessAllowed ? 'block' : 'none';\n",
              "\n",
              "        async function convertToInteractive(key) {\n",
              "          const element = document.querySelector('#df-3988625d-522e-43e4-b9ba-c0d4ea9a076e');\n",
              "          const dataTable =\n",
              "            await google.colab.kernel.invokeFunction('convertToInteractive',\n",
              "                                                     [key], {});\n",
              "          if (!dataTable) return;\n",
              "\n",
              "          const docLinkHtml = 'Like what you see? Visit the ' +\n",
              "            '<a target=\"_blank\" href=https://colab.research.google.com/notebooks/data_table.ipynb>data table notebook</a>'\n",
              "            + ' to learn more about interactive tables.';\n",
              "          element.innerHTML = '';\n",
              "          dataTable['output_type'] = 'display_data';\n",
              "          await google.colab.output.renderOutput(dataTable, element);\n",
              "          const docLink = document.createElement('div');\n",
              "          docLink.innerHTML = docLinkHtml;\n",
              "          element.appendChild(docLink);\n",
              "        }\n",
              "      </script>\n",
              "    </div>\n",
              "  </div>\n",
              "  "
            ]
          },
          "metadata": {},
          "execution_count": 5
        },
        {
          "output_type": "display_data",
          "data": {
            "text/plain": [
              "<Figure size 432x288 with 1 Axes>"
            ],
            "image/png": "[encoded data removed]"
          },
          "metadata": {}
        }
      ]
    }
  ]
}